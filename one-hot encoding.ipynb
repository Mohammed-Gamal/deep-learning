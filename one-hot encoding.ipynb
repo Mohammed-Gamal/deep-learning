{
 "cells": [
  {
   "cell_type": "markdown",
   "metadata": {},
   "source": [
    "## One-hot Encoding"
   ]
  },
  {
   "cell_type": "code",
   "execution_count": 3,
   "metadata": {},
   "outputs": [
    {
     "name": "stdout",
     "output_type": "stream",
     "text": [
      "  col1\n",
      "0  Sat\n",
      "1  Sun\n",
      "2  Mon\n",
      "3  Tue\n",
      "4  Wed\n",
      "5  Thu\n",
      "6  Fri\n"
     ]
    }
   ],
   "source": [
    "import pandas as pd \n",
    "\n",
    "df = pd.DataFrame({\"col1\": [\"Sat\", \"Sun\", \"Mon\", \"Tue\", \"Wed\", \"Thu\", \"Fri\"]})\n",
    "print(df)"
   ]
  },
  {
   "cell_type": "code",
   "execution_count": 5,
   "metadata": {},
   "outputs": [
    {
     "name": "stdout",
     "output_type": "stream",
     "text": [
      "   Weekday_Fri  Weekday_Mon  Weekday_Sat  Weekday_Sun  Weekday_Thu  \\\n",
      "0        False        False         True        False        False   \n",
      "1        False        False        False         True        False   \n",
      "2        False         True        False        False        False   \n",
      "3        False        False        False        False        False   \n",
      "4        False        False        False        False        False   \n",
      "5        False        False        False        False         True   \n",
      "6         True        False        False        False        False   \n",
      "\n",
      "   Weekday_Tue  Weekday_Wed  \n",
      "0        False        False  \n",
      "1        False        False  \n",
      "2        False        False  \n",
      "3         True        False  \n",
      "4        False         True  \n",
      "5        False        False  \n",
      "6        False        False  \n"
     ]
    }
   ],
   "source": [
    "df_new = pd.get_dummies(df, columns=[\"col1\"], prefix=\"Weekday\")\n",
    "print(df_new)"
   ]
  },
  {
   "cell_type": "markdown",
   "metadata": {},
   "source": [
    "### Example using pandas"
   ]
  },
  {
   "cell_type": "code",
   "execution_count": 8,
   "metadata": {},
   "outputs": [
    {
     "name": "stdout",
     "output_type": "stream",
     "text": [
      "   Ids   Cities\n",
      "0   11  Seattle\n",
      "1   22   London\n",
      "2   33   Lahore\n",
      "3   44   Berlin\n",
      "4   55    Abuja\n"
     ]
    }
   ],
   "source": [
    "import pandas as pd\n",
    " \n",
    "ids = [11, 22, 33, 44, 55, 66, 77]\n",
    "countries = ['Seattle', 'London', 'Lahore', 'Berlin', 'Abuja']\n",
    " \n",
    "df = pd.DataFrame(list(zip(ids, countries)), columns=['Ids', 'Cities'])\n",
    "print(df.head())"
   ]
  },
  {
   "cell_type": "code",
   "execution_count": 14,
   "metadata": {},
   "outputs": [
    {
     "name": "stdout",
     "output_type": "stream",
     "text": [
      "   Ids  City_Abuja  City_Berlin  City_Lahore  City_London  City_Seattle\n",
      "0   11       False        False        False        False          True\n",
      "1   22       False        False        False         True         False\n",
      "2   33       False        False         True        False         False\n",
      "3   44       False         True        False        False         False\n",
      "4   55        True        False        False        False         False\n"
     ]
    }
   ],
   "source": [
    "df_new = pd.get_dummies(df, columns=[\"Cities\"], prefix='City')\n",
    "print(df_new.head())"
   ]
  },
  {
   "cell_type": "markdown",
   "metadata": {},
   "source": [
    "### Example using sklearn"
   ]
  },
  {
   "cell_type": "code",
   "execution_count": 20,
   "metadata": {},
   "outputs": [
    {
     "name": "stdout",
     "output_type": "stream",
     "text": [
      "targets = ['red' 'green' 'blue' 'yellow' 'pink' 'white']\n",
      "new_targets (labels) = [3 1 0 5 2 4]\n",
      "One-hot encoded targets =\n",
      " [[0. 0. 0. 1. 0. 0.]\n",
      " [0. 1. 0. 0. 0. 0.]\n",
      " [1. 0. 0. 0. 0. 0.]\n",
      " [0. 0. 0. 0. 0. 1.]\n",
      " [0. 0. 1. 0. 0. 0.]\n",
      " [0. 0. 0. 0. 1. 0.]]\n"
     ]
    }
   ],
   "source": [
    "import sklearn.preprocessing as preprocessing\n",
    "import numpy as np\n",
    "\n",
    "targets = np.array([\"red\", \"green\", \"blue\", \"yellow\", \"pink\", \"white\"])\n",
    "print(\"targets =\", targets)\n",
    "\n",
    "labelEnc = preprocessing.LabelEncoder()\n",
    "new_target = labelEnc.fit_transform(targets)\n",
    "print(\"new_targets (labels) =\", new_target)\n",
    "\n",
    "onehotEnc = preprocessing.OneHotEncoder()\n",
    "onehotEnc.fit(new_target.reshape(-1, 1))\n",
    "targets_trans = onehotEnc.transform(new_target.reshape(-1, 1))\n",
    "print(\"One-hot encoded targets =\\n\", targets_trans.toarray())"
   ]
  }
 ],
 "metadata": {
  "kernelspec": {
   "display_name": "Python 3",
   "language": "python",
   "name": "python3"
  },
  "language_info": {
   "codemirror_mode": {
    "name": "ipython",
    "version": 3
   },
   "file_extension": ".py",
   "mimetype": "text/x-python",
   "name": "python",
   "nbconvert_exporter": "python",
   "pygments_lexer": "ipython3",
   "version": "3.12.2"
  }
 },
 "nbformat": 4,
 "nbformat_minor": 2
}
